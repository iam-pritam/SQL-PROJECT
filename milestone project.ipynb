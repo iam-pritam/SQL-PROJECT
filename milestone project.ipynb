{
 "cells": [
  {
   "cell_type": "code",
   "execution_count": 10,
   "id": "2c2f8fe6",
   "metadata": {},
   "outputs": [],
   "source": [
    "\n",
    "\n",
    "def display_board(board):\n",
    "    \n",
    "\n",
    "    print(board[7]+'|'+board[8]+'|'+board[9])\n",
    "    print(board[4]+'|'+board[5]+'|'+board[6])\n",
    "    print(board[1]+'|'+board[2]+'|'+board[3])"
   ]
  },
  {
   "cell_type": "code",
   "execution_count": 11,
   "id": "869adb68",
   "metadata": {},
   "outputs": [
    {
     "name": "stdout",
     "output_type": "stream",
     "text": [
      "x|o|x\n",
      "o|x|o\n",
      "x|o|x\n",
      "x|o|x\n",
      "o|x|o\n",
      "x|o|x\n"
     ]
    }
   ],
   "source": [
    "test_board = ['#','x','o','x','o','x','o','x','o','x']\n",
    "\n",
    "display_board(test_board)\n",
    "display_board(test_board)"
   ]
  },
  {
   "cell_type": "markdown",
   "id": "a463fca1",
   "metadata": {},
   "source": [
    "OOP\n"
   ]
  },
  {
   "cell_type": "code",
   "execution_count": 48,
   "id": "1bde1049",
   "metadata": {},
   "outputs": [],
   "source": [
    "class dog():\n",
    "    \n",
    "\n",
    "    def __init__(self,breed,name,spots):\n",
    "        \n",
    "        #attributes\n",
    "        #we take in the argument\n",
    "        # assign it using self.attribute_name\n",
    "        \n",
    "        self.breed = breed\n",
    "        self.name  = name\n",
    "        \n",
    "        self.spots = spots"
   ]
  },
  {
   "cell_type": "code",
   "execution_count": 49,
   "id": "8e2f2486",
   "metadata": {},
   "outputs": [],
   "source": [
    "my_dog = dog(breed ='lab',name ='sammy',spots = False)"
   ]
  },
  {
   "cell_type": "code",
   "execution_count": 50,
   "id": "e6c97471",
   "metadata": {},
   "outputs": [
    {
     "data": {
      "text/plain": [
       "__main__.dog"
      ]
     },
     "execution_count": 50,
     "metadata": {},
     "output_type": "execute_result"
    }
   ],
   "source": [
    "type(my_dog)"
   ]
  },
  {
   "cell_type": "code",
   "execution_count": 51,
   "id": "ecad63ef",
   "metadata": {},
   "outputs": [
    {
     "data": {
      "text/plain": [
       "False"
      ]
     },
     "execution_count": 51,
     "metadata": {},
     "output_type": "execute_result"
    }
   ],
   "source": [
    "my_dog.spots"
   ]
  },
  {
   "cell_type": "code",
   "execution_count": 56,
   "id": "77d1d41d",
   "metadata": {},
   "outputs": [],
   "source": [
    "class dog():\n",
    "    \n",
    "    #class object attribute\n",
    "    # same for any instance of a class\n",
    "    \n",
    "    species = 'mammal'\n",
    "\n",
    "    def __init__(self,breed,name,):\n",
    "        \n",
    "        #attributes\n",
    "        #we take in the argument\n",
    "        # assign it using self.attribute_name\n",
    "        \n",
    "        self.breed = breed\n",
    "        self.name  = name\n",
    "        \n",
    "    #operations/actions----------->methods \n",
    "    \n",
    "    def bark(self):\n",
    "        print('woof my name is {}'.format (self.name))"
   ]
  },
  {
   "cell_type": "code",
   "execution_count": 57,
   "id": "602ebf14",
   "metadata": {},
   "outputs": [],
   "source": [
    "my_dog = dog('lab','frankie')"
   ]
  },
  {
   "cell_type": "code",
   "execution_count": 58,
   "id": "0b890a79",
   "metadata": {},
   "outputs": [
    {
     "data": {
      "text/plain": [
       "__main__.dog"
      ]
     },
     "execution_count": 58,
     "metadata": {},
     "output_type": "execute_result"
    }
   ],
   "source": [
    "type(my_dog)"
   ]
  },
  {
   "cell_type": "code",
   "execution_count": 59,
   "id": "b56d32f1",
   "metadata": {},
   "outputs": [
    {
     "name": "stdout",
     "output_type": "stream",
     "text": [
      "woof my name is frankie\n"
     ]
    }
   ],
   "source": [
    "my_dog.bark()"
   ]
  },
  {
   "cell_type": "code",
   "execution_count": null,
   "id": "a3ffddf0",
   "metadata": {},
   "outputs": [],
   "source": []
  },
  {
   "cell_type": "code",
   "execution_count": null,
   "id": "2d5c1cc8",
   "metadata": {},
   "outputs": [],
   "source": []
  },
  {
   "cell_type": "code",
   "execution_count": 1,
   "id": "2f49cca0",
   "metadata": {},
   "outputs": [],
   "source": [
    "class animal():\n",
    "    \n",
    "    def __init__(self):\n",
    "        print ('animal created')\n",
    "        \n",
    "    def who_am_i(self):\n",
    "        print('i am an animal')\n",
    "        \n",
    "    def eat(self):\n",
    "        print('i am eating')"
   ]
  },
  {
   "cell_type": "code",
   "execution_count": 5,
   "id": "e8c5139f",
   "metadata": {},
   "outputs": [],
   "source": [
    "class dog(animal):\n",
    "    \n",
    "    def __init__(self):\n",
    "        animal.__init__(self)\n",
    "        print('dog created')"
   ]
  },
  {
   "cell_type": "code",
   "execution_count": 6,
   "id": "17b0be37",
   "metadata": {},
   "outputs": [
    {
     "name": "stdout",
     "output_type": "stream",
     "text": [
      "animal created\n",
      "dog created\n"
     ]
    }
   ],
   "source": [
    "mydog = dog()"
   ]
  },
  {
   "cell_type": "code",
   "execution_count": 2,
   "id": "e779df0a",
   "metadata": {},
   "outputs": [
    {
     "name": "stdout",
     "output_type": "stream",
     "text": [
      "animal created\n"
     ]
    }
   ],
   "source": [
    "myanimal = animal()"
   ]
  },
  {
   "cell_type": "code",
   "execution_count": 15,
   "id": "8f3ba6dd",
   "metadata": {},
   "outputs": [],
   "source": [
    "class Line:\n",
    "    \n",
    "    def __init__(self,coor1,coor2):\n",
    "        self.coor1 = coor1\n",
    "        self.coor2 = coor2\n",
    "    \n",
    "    def distance(self):\n",
    "        \n",
    "        x1,y1 = self.coor1\n",
    "        x2,y2 = self.coor2\n",
    "        \n",
    "        return ((x2-x1)**2+(y2-y1)**2)**0.5\n",
    "    \n",
    "    def slope(self):\n",
    "        x1,y1 = self.coor1\n",
    "        x2,y2 = self.coor2\n",
    "        \n",
    "        return (y2-y1)/(x2-x1)\n",
    "        "
   ]
  },
  {
   "cell_type": "code",
   "execution_count": 16,
   "id": "6ba86880",
   "metadata": {},
   "outputs": [],
   "source": [
    "c1=(3,2)\n",
    "c2=(8,10)"
   ]
  },
  {
   "cell_type": "code",
   "execution_count": 17,
   "id": "1a5821cc",
   "metadata": {},
   "outputs": [],
   "source": [
    "myline =(c1,c2)"
   ]
  },
  {
   "cell_type": "code",
   "execution_count": 18,
   "id": "df8525e4",
   "metadata": {},
   "outputs": [
    {
     "ename": "AttributeError",
     "evalue": "'tuple' object has no attribute 'distance'",
     "output_type": "error",
     "traceback": [
      "\u001b[1;31m---------------------------------------------------------------------------\u001b[0m",
      "\u001b[1;31mAttributeError\u001b[0m                            Traceback (most recent call last)",
      "Cell \u001b[1;32mIn[18], line 1\u001b[0m\n\u001b[1;32m----> 1\u001b[0m \u001b[43mmyline\u001b[49m\u001b[38;5;241;43m.\u001b[39;49m\u001b[43mdistance\u001b[49m()\n",
      "\u001b[1;31mAttributeError\u001b[0m: 'tuple' object has no attribute 'distance'"
     ]
    }
   ],
   "source": [
    "myline.distance()"
   ]
  },
  {
   "cell_type": "code",
   "execution_count": null,
   "id": "280d2cac",
   "metadata": {},
   "outputs": [],
   "source": []
  },
  {
   "cell_type": "code",
   "execution_count": null,
   "id": "787860a9",
   "metadata": {},
   "outputs": [],
   "source": []
  },
  {
   "cell_type": "code",
   "execution_count": 2,
   "id": "206b6f1f",
   "metadata": {},
   "outputs": [
    {
     "name": "stdout",
     "output_type": "stream",
     "text": [
      "i always run\n"
     ]
    }
   ],
   "source": [
    "try:\n",
    "    f=open('testfile','w')\n",
    "    f.write('write a testline')\n",
    "except typeerror:\n",
    "        print('there was a typeerror')\n",
    "except oserror:\n",
    "        print('hey you have an oserror')\n",
    "finally:\n",
    "        print('i always run')"
   ]
  },
  {
   "cell_type": "code",
   "execution_count": 3,
   "id": "76ef0164",
   "metadata": {},
   "outputs": [],
   "source": [
    "def func():\n",
    "    return 1"
   ]
  },
  {
   "cell_type": "code",
   "execution_count": 4,
   "id": "ed778e5b",
   "metadata": {},
   "outputs": [
    {
     "data": {
      "text/plain": [
       "1"
      ]
     },
     "execution_count": 4,
     "metadata": {},
     "output_type": "execute_result"
    }
   ],
   "source": [
    "func()"
   ]
  },
  {
   "cell_type": "code",
   "execution_count": null,
   "id": "580b2d61",
   "metadata": {},
   "outputs": [],
   "source": []
  },
  {
   "cell_type": "code",
   "execution_count": null,
   "id": "2c647b12",
   "metadata": {},
   "outputs": [],
   "source": []
  },
  {
   "cell_type": "code",
   "execution_count": null,
   "id": "78d2190b",
   "metadata": {},
   "outputs": [],
   "source": []
  },
  {
   "cell_type": "code",
   "execution_count": null,
   "id": "7f23b61b",
   "metadata": {},
   "outputs": [],
   "source": []
  },
  {
   "cell_type": "code",
   "execution_count": null,
   "id": "c0923e0b",
   "metadata": {},
   "outputs": [],
   "source": []
  },
  {
   "cell_type": "code",
   "execution_count": null,
   "id": "ac2f021c",
   "metadata": {},
   "outputs": [],
   "source": []
  },
  {
   "cell_type": "code",
   "execution_count": null,
   "id": "59ce5055",
   "metadata": {},
   "outputs": [],
   "source": []
  },
  {
   "cell_type": "code",
   "execution_count": 14,
   "id": "8fbad9f0",
   "metadata": {},
   "outputs": [],
   "source": [
    "def hello(name='jose'):\n",
    "    print('the hello() function has been executed')\n",
    "    \n",
    "    def greet():\n",
    "        return '\\t this is the greet() func inside hello'\n",
    "    \n",
    "    def welcome():\n",
    "        return '\\t this is the welcome() inside hello'\n",
    "    \n",
    "    print('i am going to return a function')\n",
    "    \n",
    "    if name == 'jose':\n",
    "        return greet\n",
    "    else:\n",
    "        return welcome"
   ]
  },
  {
   "cell_type": "code",
   "execution_count": 15,
   "id": "46051ab8",
   "metadata": {},
   "outputs": [
    {
     "name": "stdout",
     "output_type": "stream",
     "text": [
      "the hello() function has been executed\n",
      "i am going to return a function\n"
     ]
    }
   ],
   "source": [
    "my_new_func = hello('jose')"
   ]
  },
  {
   "cell_type": "code",
   "execution_count": null,
   "id": "acdb244c",
   "metadata": {},
   "outputs": [],
   "source": []
  },
  {
   "cell_type": "code",
   "execution_count": null,
   "id": "efd37316",
   "metadata": {},
   "outputs": [],
   "source": []
  }
 ],
 "metadata": {
  "kernelspec": {
   "display_name": "Python 3 (ipykernel)",
   "language": "python",
   "name": "python3"
  },
  "language_info": {
   "codemirror_mode": {
    "name": "ipython",
    "version": 3
   },
   "file_extension": ".py",
   "mimetype": "text/x-python",
   "name": "python",
   "nbconvert_exporter": "python",
   "pygments_lexer": "ipython3",
   "version": "3.10.9"
  }
 },
 "nbformat": 4,
 "nbformat_minor": 5
}
